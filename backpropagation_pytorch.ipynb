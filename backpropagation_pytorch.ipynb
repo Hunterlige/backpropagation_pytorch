{
  "nbformat": 4,
  "nbformat_minor": 0,
  "metadata": {
    "kernelspec": {
      "display_name": "Python 3",
      "language": "python",
      "name": "python3"
    },
    "language_info": {
      "codemirror_mode": {
        "name": "ipython",
        "version": 3
      },
      "file_extension": ".py",
      "mimetype": "text/x-python",
      "name": "python",
      "nbconvert_exporter": "python",
      "pygments_lexer": "ipython3",
      "version": "3.7.9"
    },
    "colab": {
      "name": "Copy of Backpropagation - Deepcourse",
      "provenance": [],
      "collapsed_sections": []
    }
  },
  "cells": [
    {
      "cell_type": "markdown",
      "metadata": {
        "id": "fA6tTUFMsOVA"
      },
      "source": [
        "<center><h1>Backpropagation From Scratch in PyTorch</h1></center>\n",
        "\n",
        "---\n",
        "\n",
        "# 1. Loading Data"
      ]
    },
    {
      "cell_type": "code",
      "metadata": {
        "id": "SssNn_kZqgkA"
      },
      "source": [
        "%matplotlib inline"
      ],
      "execution_count": 2,
      "outputs": []
    },
    {
      "cell_type": "code",
      "metadata": {
        "id": "ow5mTbXbqgkA"
      },
      "source": [
        "import torch\n",
        "import numpy as np\n",
        "from sklearn.datasets import load_digits\n",
        "import matplotlib.pyplot as plt\n",
        "\n",
        "digits = load_digits()"
      ],
      "execution_count": 3,
      "outputs": []
    },
    {
      "cell_type": "code",
      "metadata": {
        "id": "39IslwwyqgkA",
        "colab": {
          "base_uri": "https://localhost:8080/"
        },
        "outputId": "89399e1c-eedc-4bd2-8ccc-014a13c4debd"
      },
      "source": [
        "X = torch.tensor(digits[\"images\"]).float()\n",
        "Y = torch.tensor(digits[\"target\"]).long()\n",
        "\n",
        "print(f\"Images shape: {X.shape}, targets shape: {Y.shape}\")"
      ],
      "execution_count": 4,
      "outputs": [
        {
          "output_type": "stream",
          "name": "stdout",
          "text": [
            "Images shape: torch.Size([1797, 8, 8]), targets shape: torch.Size([1797])\n"
          ]
        }
      ]
    },
    {
      "cell_type": "markdown",
      "metadata": {
        "id": "hdlG3T1ItnqM"
      },
      "source": [
        "We have 1797 images, each of size 8x8. The targets shape is 1797 because, for each image a target is simply an integer representing the digit.\n",
        "\n",
        "Now that our data is loaded, we need to visualize it."
      ]
    },
    {
      "cell_type": "code",
      "metadata": {
        "id": "580c7iZbqgkA",
        "colab": {
          "base_uri": "https://localhost:8080/",
          "height": 162
        },
        "outputId": "75e9e47f-d9ad-430c-df4b-1ad831577c08"
      },
      "source": [
        "plt.subplot(1, 3, 1)\n",
        "plt.imshow(X[42], cmap=\"gray\")\n",
        "plt.title(f\"Digit: {Y[42]}\");\n",
        "\n",
        "plt.subplot(1, 3, 2)\n",
        "plt.imshow(X[64], cmap=\"gray\")\n",
        "plt.title(f\"Digit: {Y[64]}\");\n",
        "\n",
        "plt.subplot(1, 3, 3)\n",
        "plt.imshow(X[1337], cmap=\"gray\")\n",
        "plt.title(f\"Digit: {Y[1337]}\");"
      ],
      "execution_count": 5,
      "outputs": [
        {
          "output_type": "display_data",
          "data": {
            "image/png": "[encoded data removed]",
            "text/plain": [
              "<Figure size 432x288 with 3 Axes>"
            ]
          },
          "metadata": {
            "needs_background": "light"
          }
        }
      ]
    },
    {
      "cell_type": "markdown",
      "metadata": {
        "id": "t8mH_DnCubqU"
      },
      "source": [
        "For this dataset, the pixels are coded with 4 bits, meaning that we can have values from 0 to 16 ($2^4$)."
      ]
    },
    {
      "cell_type": "code",
      "metadata": {
        "id": "hKyjzJB2qgkA",
        "colab": {
          "base_uri": "https://localhost:8080/"
        },
        "outputId": "24397a6f-594d-4c17-8129-7976e82cdc25"
      },
      "source": [
        "print(f\"Min and max value of images pixels [{X.min()}, {X.max()}]\")\n",
        "X = X / 16\n",
        "print(f\"Min and max value of normalized images pixels [{X.min()}, {X.max()}]\")"
      ],
      "execution_count": 6,
      "outputs": [
        {
          "output_type": "stream",
          "name": "stdout",
          "text": [
            "Min and max value of images pixels [0.0, 16.0]\n",
            "Min and max value of normalized images pixels [0.0, 1.0]\n"
          ]
        }
      ]
    },
    {
      "cell_type": "markdown",
      "metadata": {
        "id": "lXAFeiDh1_q4"
      },
      "source": [
        "MLP only accepts inputs that are vectors, thus we will flatten our images into vectors:"
      ]
    },
    {
      "cell_type": "code",
      "metadata": {
        "id": "MWV7bkVLqgkA",
        "colab": {
          "base_uri": "https://localhost:8080/"
        },
        "outputId": "3440e4f7-3f8a-407c-93ba-b8989cc7b18f"
      },
      "source": [
        "# Flatten images as vectors\n",
        "print(f\"Images shape: {X.shape}\")\n",
        "X = X.view(X.shape[0], -1)\n",
        "print(f\"Flatten images shape: {X.shape}\")"
      ],
      "execution_count": 7,
      "outputs": [
        {
          "output_type": "stream",
          "name": "stdout",
          "text": [
            "Images shape: torch.Size([1797, 8, 8])\n",
            "Flatten images shape: torch.Size([1797, 64])\n"
          ]
        }
      ]
    },
    {
      "cell_type": "markdown",
      "metadata": {
        "id": "GndkrKA82b_Y"
      },
      "source": [
        "---\n",
        "\n",
        "# 2. Activation Functions\n",
        "\n",
        "Now that the data is loaded and preprocessed, we need to code the non-linear activation functions that are essential to deep learning.\n",
        "\n",
        "Let's start by `softmax`, the final activation, that will give us a probability per digit. It takes as input a vector of **logits** (the final outputs of the network before softmax, one value per digit) and returns a vector of probabilities.\n",
        "\n",
        "Here is the formula for the $i^\\text{th}$ probability:\n",
        "\n",
        "$$\\text{softmax}(\\mathbf{x})_i = \\frac{e^{x_i}}{\\sum_j e^{x_j}}$$\n",
        "$$\\operatorname{softmax}(\\mathbf{x} - c)_i = \\frac{e^{x_i - c}}{\\sum_j e^{x_j - c}}$$\n",
        "$$\\operatorname{softmax}(\\mathbf{x} - c)_i = \\frac{e^{-c} e^{x_i}}{e^{-c} \\sum_j e^{x_j}}$$\n",
        "$$\\operatorname{softmax}(\\mathbf{x} - c)_i = \\frac{e^{x_i}}{\\sum_j e^{x_j}}$$\n",
        "$$\\operatorname{softmax}(\\mathbf{x} - c)_i = \\operatorname{softmax}(\\mathbf{x})_i$$\n",
        "\n"
      ]
    },
    {
      "cell_type": "code",
      "metadata": {
        "id": "f__TpQHOqgkA"
      },
      "source": [
        "def softmax(x):\n",
        "  maximum_value = x.max(dim=1, keepdims=True)[0]\n",
        "  exp = torch.exp(x - maximum_value)\n",
        "  soft = exp / torch.sum(exp, dim=1, keepdims=True)\n",
        "  return torch.nan_to_num(soft, 1)"
      ],
      "execution_count": 8,
      "outputs": []
    },
    {
      "cell_type": "code",
      "metadata": {
        "id": "0JmzXQyXqgkA"
      },
      "source": [
        "def cross_entropy(probs, targets):\n",
        "  return - torch.sum(targets * torch.log(probs + 1e-8), dim=1)"
      ],
      "execution_count": 9,
      "outputs": []
    },
    {
      "cell_type": "markdown",
      "metadata": {
        "id": "-s_Sul3sZjks"
      },
      "source": [
        "---\n",
        "\n",
        "# 3. Logistic Regression\n",
        "\n",
        "Here is the forward formula:\n",
        "\n",
        "$$\\tilde{\\mathbf{y}} = \\mathbf{X}\\mathbf{W} + \\mathbf{b}$$\n",
        "$$\\hat{\\mathbf{y}} = \\text{softmax}(\\tilde{\\mathbf{y}})$$\n",
        "$$\\mathcal{L} = -\\frac{1}{B} \\sum_{b=1}^B \\log \\hat{\\mathbf{y}}_y $$\n",
        "\n",
        "With $\\mathbf{X} \\in \\mathbb{R}^{B \\times N}$, $\\mathbf{W} \\in \\mathbb{R}^{N \\times C}$, and $\\mathbf{b} \\in \\mathbb{R}^{C}$. With $B$ being the batch size, $N$ the number of input pixels, and $C$ the number of classes.\n",
        "\n",
        "For the backward, We can simplify formulas with a shortcut by taking directly the gradient of the loss $\\mathcal{L}$ with relation to (w.r.t) the logits $\\tilde{\\mathbf{y}}$ (*see course for details*):\n",
        "\n",
        "$$\\nabla_\\tilde{\\mathbf{y}} \\mathcal{L} = \\hat{\\mathbf{y}} - \\mathbf{y}$$\n",
        "\n",
        "Only two gradients are of interest: the one with relation to (w.r.t) the weights $\\mathbf{W}$ and $\\mathbf{b}$, the neurons we want to update. \n",
        "\n",
        "$$\\nabla_\\mathbf{W} \\mathcal{L} = (\\nabla_\\mathbf{W} \\tilde{\\mathbf{y}})^T \\nabla_\\tilde{\\mathbf{y}} \\mathcal{L}$$\n",
        "$$\\nabla_\\mathbf{b} \\mathcal{L} = \\nabla_\\tilde{\\mathbf{y}} \\mathcal{L}$$\n",
        "\n"
      ]
    },
    {
      "cell_type": "code",
      "metadata": {
        "id": "WJaDibEpqgkA"
      },
      "source": [
        "class LogisticRegression:\n",
        "    def __init__(self, input_size, nb_classes, learning_rate=0.5):\n",
        "        self.w =  torch.randn(input_size, nb_classes).float()\n",
        "        self.b =  torch.randn(nb_classes).float()\n",
        "\n",
        "        self.learning_rate = learning_rate\n",
        "        \n",
        "    def forward(self, x):\n",
        "        return torch.matmul(x, self.w) + self.b\n",
        "    \n",
        "    def fit(self, inputs, targets, train=True):\n",
        "        probs = softmax(self.forward(inputs))\n",
        "        if train:\n",
        "          self.backward(inputs, probs, targets)\n",
        "\n",
        "        loss = cross_entropy(probs, torch.eye(10)[targets]).mean()\n",
        "        return loss\n",
        "    \n",
        "    def backward(self, inputs, probs, targets):\n",
        "        batch_size = len(inputs)\n",
        "\n",
        "        grad_logits = probs - torch.eye(self.b.shape[0])[targets]\n",
        "        grad_w = torch.mm(inputs.T, grad_logits) / batch_size\n",
        "        grad_b = torch.sum(grad_logits, dim=0) / batch_size\n",
        "\n",
        "        self.w = self.w - self.learning_rate * grad_w\n",
        "        self.b = self.b - self.learning_rate * grad_b\n",
        "        \n",
        "    def accuracy(self, inputs, targets):\n",
        "        y_pred = self.forward(inputs).argmax(dim=1)\n",
        "        return torch.mean((y_pred == targets).float())\n",
        "             "
      ],
      "execution_count": 10,
      "outputs": []
    },
    {
      "cell_type": "markdown",
      "metadata": {
        "id": "WfbVsT_hzBQs"
      },
      "source": [
        "# 4. Training\n",
        "\n",
        "**Note** that we are training and testing on the same set here for simplicity."
      ]
    },
    {
      "cell_type": "code",
      "metadata": {
        "id": "YGz4Vkj0qgkA",
        "colab": {
          "base_uri": "https://localhost:8080/",
          "height": 464
        },
        "outputId": "cc5d38b1-b0d4-4c8f-ae10-c8c4826adaa4"
      },
      "source": [
        "model = LogisticRegression(X.shape[1], len(torch.unique(Y)), 0.5)\n",
        "\n",
        "batch_size = 32\n",
        "nb_epochs = 10\n",
        "\n",
        "epochs, accuracies, losses = [], [], []\n",
        "\n",
        "for epoch in range(nb_epochs):\n",
        "    for batch_index in range(0, len(X), batch_size):\n",
        "        batch_X = X[batch_index:batch_index + batch_size]\n",
        "        batch_Y = Y[batch_index:batch_index + batch_size]\n",
        "    \n",
        "        loss = model.fit(batch_X, batch_Y)\n",
        "        \n",
        "    loss = model.fit(X, Y, train=False)\n",
        "    acc = model.accuracy(X, Y)\n",
        "    \n",
        "    print(f\"Epoch: {epoch}, loss: {loss}, accuracy: {acc}\")\n",
        "    epochs.append(epoch)\n",
        "    losses.append(loss)\n",
        "    accuracies.append(acc)\n",
        "    \n",
        "plt.subplot(1, 2, 1)\n",
        "plt.plot(epochs, losses)\n",
        "plt.xlabel(\"Epoch\")\n",
        "plt.ylabel(\"Loss\")\n",
        "\n",
        "plt.subplot(1, 2, 2)\n",
        "plt.plot(epochs, accuracies)\n",
        "plt.xlabel(\"Epoch\")\n",
        "plt.ylabel(\"accuracy\");"
      ],
      "execution_count": 11,
      "outputs": [
        {
          "output_type": "stream",
          "name": "stdout",
          "text": [
            "Epoch: 0, loss: 0.9359496235847473, accuracy: 0.7167501449584961\n",
            "Epoch: 1, loss: 0.5265157222747803, accuracy: 0.8525319695472717\n",
            "Epoch: 2, loss: 0.390424907207489, accuracy: 0.8887034058570862\n",
            "Epoch: 3, loss: 0.3199089467525482, accuracy: 0.9120756983757019\n",
            "Epoch: 4, loss: 0.2762351930141449, accuracy: 0.9287701845169067\n",
            "Epoch: 5, loss: 0.2463350147008896, accuracy: 0.9376739263534546\n",
            "Epoch: 6, loss: 0.22446675598621368, accuracy: 0.9426822662353516\n",
            "Epoch: 7, loss: 0.20769262313842773, accuracy: 0.9454646706581116\n",
            "Epoch: 8, loss: 0.19435009360313416, accuracy: 0.9493600726127625\n",
            "Epoch: 9, loss: 0.18342824280261993, accuracy: 0.9510294795036316\n"
          ]
        },
        {
          "output_type": "display_data",
          "data": {
            "image/png": "[encoded data removed]",
            "text/plain": [
              "<Figure size 432x288 with 2 Axes>"
            ]
          },
          "metadata": {
            "needs_background": "light"
          }
        }
      ]
    }
  ]
}